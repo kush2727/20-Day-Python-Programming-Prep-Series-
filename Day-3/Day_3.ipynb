{
  "nbformat": 4,
  "nbformat_minor": 0,
  "metadata": {
    "colab": {
      "provenance": []
    },
    "kernelspec": {
      "name": "python3",
      "display_name": "Python 3"
    },
    "language_info": {
      "name": "python"
    }
  },
  "cells": [
    {
      "cell_type": "markdown",
      "source": [
        "\n",
        "11)Write a program to find the sum of digits of a given number.\n"
      ],
      "metadata": {
        "id": "LwY6LSDgVmzt"
      }
    },
    {
      "cell_type": "code",
      "execution_count": null,
      "metadata": {
        "colab": {
          "base_uri": "https://localhost:8080/"
        },
        "id": "VHxrOhvNVITY",
        "outputId": "c254d61f-2cc5-491e-a1b8-7d15c617cedc"
      },
      "outputs": [
        {
          "output_type": "stream",
          "name": "stdout",
          "text": [
            "15\n"
          ]
        }
      ],
      "source": [
        "num=1234\n",
        "sum=0\n",
        "while num!=0:\n",
        "  e=num%10\n",
        "  num=num//10\n",
        "  sum+=e\n",
        "print(sum)\n",
        "\n"
      ]
    },
    {
      "cell_type": "markdown",
      "source": [
        "12)Write a program to find the factorial of a number using a loop.\n"
      ],
      "metadata": {
        "id": "xBXKDjdkW7xz"
      }
    },
    {
      "cell_type": "code",
      "source": [
        "fact=1\n",
        "num=5\n",
        "for i in range(1,num+1,1):\n",
        "  fact=fact*i\n",
        "print(fact)"
      ],
      "metadata": {
        "colab": {
          "base_uri": "https://localhost:8080/"
        },
        "id": "JIRwHieLVjSJ",
        "outputId": "78905848-0b07-4038-e595-8ab35f23838d"
      },
      "execution_count": null,
      "outputs": [
        {
          "output_type": "stream",
          "name": "stdout",
          "text": [
            "120\n"
          ]
        }
      ]
    },
    {
      "cell_type": "markdown",
      "source": [
        "13)Write a program to reverse the number.\n"
      ],
      "metadata": {
        "id": "ID26PGqJXr16"
      }
    },
    {
      "cell_type": "code",
      "source": [
        "num=12345\n",
        "rev=0\n",
        "while num!=0:\n",
        "  e=num%10\n",
        "  num=num//10\n",
        "  rev=rev*10\n",
        "  rev=rev+e\n",
        "print(rev)\n",
        "\n"
      ],
      "metadata": {
        "colab": {
          "base_uri": "https://localhost:8080/"
        },
        "id": "_8MlFlfVVffy",
        "outputId": "c3f8f9c0-ec0c-4221-a164-035e5263d5c2"
      },
      "execution_count": null,
      "outputs": [
        {
          "output_type": "stream",
          "name": "stdout",
          "text": [
            "54321\n"
          ]
        }
      ]
    },
    {
      "cell_type": "markdown",
      "source": [
        "14)Patterns"
      ],
      "metadata": {
        "id": "ZFiiyRX7Yg7m"
      }
    },
    {
      "cell_type": "code",
      "source": [
        "n=5\n",
        "for i in range(1,n+1,1):\n",
        "  for j in range(1,n+1,1):\n",
        "   print(\"*\",end=\" \")\n",
        "  print()\n"
      ],
      "metadata": {
        "colab": {
          "base_uri": "https://localhost:8080/"
        },
        "id": "O5ypOU0VYABU",
        "outputId": "c076c09a-784a-46d2-cabd-77d77798ebfc"
      },
      "execution_count": null,
      "outputs": [
        {
          "output_type": "stream",
          "name": "stdout",
          "text": [
            "* * * * * \n",
            "* * * * * \n",
            "* * * * * \n",
            "* * * * * \n",
            "* * * * * \n"
          ]
        }
      ]
    },
    {
      "cell_type": "code",
      "source": [
        "n=5\n",
        "for i in range(1,n+1,1):\n",
        "  for j in range(1,n+1,1):\n",
        "     print(i,end=\" \")\n",
        "  print()\n"
      ],
      "metadata": {
        "colab": {
          "base_uri": "https://localhost:8080/"
        },
        "id": "VMkmUUDhYirk",
        "outputId": "dc64e92d-4ac1-45f8-f2f5-4108cae9b651"
      },
      "execution_count": null,
      "outputs": [
        {
          "output_type": "stream",
          "name": "stdout",
          "text": [
            "1 1 1 1 1 \n",
            "2 2 2 2 2 \n",
            "3 3 3 3 3 \n",
            "4 4 4 4 4 \n",
            "5 5 5 5 5 \n"
          ]
        }
      ]
    },
    {
      "cell_type": "code",
      "source": [
        "n=5\n",
        "a=65\n",
        "for i in range(1,n+1,1):\n",
        "  for j in range(1,n+1,1):\n",
        "     print(chr(a),end=\" \")\n",
        "  a+=1\n",
        "  print()"
      ],
      "metadata": {
        "colab": {
          "base_uri": "https://localhost:8080/"
        },
        "id": "iZfDl9TjZcy6",
        "outputId": "6f55cafb-3d86-47d6-eebb-a19ae6770da8"
      },
      "execution_count": null,
      "outputs": [
        {
          "output_type": "stream",
          "name": "stdout",
          "text": [
            "A A A A A \n",
            "B B B B B \n",
            "C C C C C \n",
            "D D D D D \n",
            "E E E E E \n"
          ]
        }
      ]
    },
    {
      "cell_type": "markdown",
      "source": [
        "15)Write a Python program to check whether a number is an Armstrong number or not."
      ],
      "metadata": {
        "id": "8uGyPjh2jHS4"
      }
    },
    {
      "cell_type": "code",
      "source": [
        "num=int(input())\n",
        "save=num\n",
        "save1=num\n",
        "count=0\n",
        "sum=0\n",
        "while num!=0:\n",
        " num=num//10\n",
        " count+=1\n",
        "while save!=0:\n",
        "  e=save%10\n",
        "  save=save//10\n",
        "  a=e**count\n",
        "  sum+=a\n",
        "if sum==save1:\n",
        " print(\"Armstrong Number\")\n",
        "else:\n",
        " print(\"Not an Armstrong Number\")"
      ],
      "metadata": {
        "id": "jr_76UPRjD6x",
        "colab": {
          "base_uri": "https://localhost:8080/"
        },
        "outputId": "b0fb3dc5-3b8b-43a8-a277-5a11679925e9"
      },
      "execution_count": 1,
      "outputs": [
        {
          "output_type": "stream",
          "name": "stdout",
          "text": [
            "153\n",
            "Armstrong Number\n"
          ]
        }
      ]
    }
  ]
}