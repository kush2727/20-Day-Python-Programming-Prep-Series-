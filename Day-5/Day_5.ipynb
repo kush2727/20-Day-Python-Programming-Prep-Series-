{
  "nbformat": 4,
  "nbformat_minor": 0,
  "metadata": {
    "colab": {
      "provenance": []
    },
    "kernelspec": {
      "name": "python3",
      "display_name": "Python 3"
    },
    "language_info": {
      "name": "python"
    }
  },
  "cells": [
    {
      "cell_type": "markdown",
      "source": [
        "21) Write a program to check if a number is a Perfect number.(Example: 6 = 1 + 2 + 3)\n"
      ],
      "metadata": {
        "id": "1xsVg8RrCqkd"
      }
    },
    {
      "cell_type": "code",
      "source": [
        "num = int(input(\"Enter a number: \"))\n",
        "sum = 0\n",
        "\n",
        "for i in range(1,num-1+1,1):\n",
        "    if num%i== 0:\n",
        "        sum+=i\n",
        "\n",
        "if sum==num:\n",
        "    print(\"Perfect number\")\n",
        "else:\n",
        "    print(\"Not a perfect number\")\n"
      ],
      "metadata": {
        "colab": {
          "base_uri": "https://localhost:8080/"
        },
        "id": "xW0gYj8KCxRp",
        "outputId": "2c5c994d-65de-4881-d7dd-c8451dcfe8a1"
      },
      "execution_count": 4,
      "outputs": [
        {
          "output_type": "stream",
          "name": "stdout",
          "text": [
            "Enter a number: 6\n",
            "Perfect number\n"
          ]
        }
      ]
    },
    {
      "cell_type": "markdown",
      "source": [
        "22)Write a program to check if a number is a Spy number. (Sum of digits = Product of digits)"
      ],
      "metadata": {
        "id": "TjUiZgP6D8r6"
      }
    },
    {
      "cell_type": "code",
      "source": [
        "num = 123\n",
        "sum_of_digits=0\n",
        "prod_of_digits=1\n",
        "while num!=0:\n",
        "  e=num%10\n",
        "  num=num//10\n",
        "  sum_of_digits=sum_of_digits+e\n",
        "  prod_of_digits=prod_of_digits*e\n",
        "\n",
        "if sum_of_digits==prod_of_digits:\n",
        "  print(\"Spy Number\")\n",
        "else:\n",
        "  print(\"Not a Spy Number\")\n"
      ],
      "metadata": {
        "colab": {
          "base_uri": "https://localhost:8080/"
        },
        "id": "UbUOyePqD78Q",
        "outputId": "703cda46-f9b8-4a34-909d-97cde8ff7b2e"
      },
      "execution_count": 8,
      "outputs": [
        {
          "output_type": "stream",
          "name": "stdout",
          "text": [
            "Spy Number\n"
          ]
        }
      ]
    },
    {
      "cell_type": "markdown",
      "source": [
        "23)Write a program to check if a number is a Buzz number.(Divisible by 7 or ends with 7)"
      ],
      "metadata": {
        "id": "Y11G7GxXFE9s"
      }
    },
    {
      "cell_type": "code",
      "source": [
        "num=1234567\n",
        "last_digit=num%10\n",
        "\n",
        "if num%7==0 or last_digit==7:\n",
        "  print(\"Buzz Number\")\n",
        "else:\n",
        "  print(\"Not a Buzz Number\")\n"
      ],
      "metadata": {
        "colab": {
          "base_uri": "https://localhost:8080/"
        },
        "id": "HMEpXliCFH9m",
        "outputId": "b7564ce0-c93d-472e-ddb8-4e673a41a746"
      },
      "execution_count": 15,
      "outputs": [
        {
          "output_type": "stream",
          "name": "stdout",
          "text": [
            "Buzz Number\n"
          ]
        }
      ]
    },
    {
      "cell_type": "markdown",
      "source": [
        "24)Write a program to check if a number is a Strong number.(Example: 145 = 1! + 4! + 5!)"
      ],
      "metadata": {
        "id": "40VjwjqnGJKQ"
      }
    },
    {
      "cell_type": "code",
      "source": [
        "def fact(num):\n",
        "    fact=1\n",
        "    for i in range(1,num+1,1):\n",
        "      fact=fact*i\n",
        "    return fact\n",
        "num = 145\n",
        "save=num\n",
        "sum=0\n",
        "while num!=0:\n",
        "  e=num%10\n",
        "  num=num//10\n",
        "  a=fact(e)\n",
        "  sum+=a\n",
        "if save==sum:\n",
        "  print(\"Strong Number\")\n",
        "else:\n",
        "  print(\"Not Strong Number\")"
      ],
      "metadata": {
        "colab": {
          "base_uri": "https://localhost:8080/"
        },
        "id": "5V99BN3xGF0K",
        "outputId": "91c24c78-e438-46cf-878f-a8905743f1b0"
      },
      "execution_count": 48,
      "outputs": [
        {
          "output_type": "stream",
          "name": "stdout",
          "text": [
            "Strong Number\n"
          ]
        }
      ]
    },
    {
      "cell_type": "markdown",
      "source": [
        "25)Patterns"
      ],
      "metadata": {
        "id": "-kSX7epvNzwS"
      }
    },
    {
      "cell_type": "code",
      "source": [
        "n=5\n",
        "for i in range(1,n+1,1):\n",
        "  for j in range(1,i-1+1,1):\n",
        "    print(\"\",end=\" \")\n",
        "  for j in range(1,n+1-i+1,1):\n",
        "    print(\"*\",end=\" \")\n",
        "  print()"
      ],
      "metadata": {
        "colab": {
          "base_uri": "https://localhost:8080/"
        },
        "id": "5h9MRui_GV9N",
        "outputId": "ccf34d44-c75d-4f31-fc5a-d94b20e0c0cb"
      },
      "execution_count": 51,
      "outputs": [
        {
          "output_type": "stream",
          "name": "stdout",
          "text": [
            "* * * * * \n",
            " * * * * \n",
            "  * * * \n",
            "   * * \n",
            "    * \n"
          ]
        }
      ]
    },
    {
      "cell_type": "code",
      "source": [
        "n=5\n",
        "for i in range(1,n+1,1):\n",
        "  a=1\n",
        "  b=1\n",
        "  for j in range(1,n-i+1,1):\n",
        "    print(\" \",end=\"\")\n",
        "  for j in range(1,i+1,1):\n",
        "    print(a,end=\"\")\n",
        "    a+=1\n",
        "  for k in range(i-1,0,-1):\n",
        "    print(k,end=\"\")\n",
        "    b+=1\n",
        "  print()"
      ],
      "metadata": {
        "colab": {
          "base_uri": "https://localhost:8080/"
        },
        "id": "dgjNIBTfOiab",
        "outputId": "567a58b9-0664-48a5-f262-c87cddedc2d3"
      },
      "execution_count": 75,
      "outputs": [
        {
          "output_type": "stream",
          "name": "stdout",
          "text": [
            "    1\n",
            "   121\n",
            "  12321\n",
            " 1234321\n",
            "123454321\n"
          ]
        }
      ]
    },
    {
      "cell_type": "code",
      "source": [
        "n=5\n",
        "for i in range(1,n+1,1):\n",
        "  a=65-(i-1)\n",
        "  for j in range(1,i-1+1,1):\n",
        "    print(\" \",end=\"\")\n",
        "  for j in range(1,n-i+2,1):\n",
        "    print(chr(a+4),end=\" \")\n",
        "    a-=1\n",
        "  print()"
      ],
      "metadata": {
        "colab": {
          "base_uri": "https://localhost:8080/"
        },
        "id": "eFe7wGIgST-g",
        "outputId": "490e4814-6db5-49af-da70-86974778cf1e"
      },
      "execution_count": 93,
      "outputs": [
        {
          "output_type": "stream",
          "name": "stdout",
          "text": [
            "E D C B A \n",
            " D C B A \n",
            "  C B A \n",
            "   B A \n",
            "    A \n"
          ]
        }
      ]
    }
  ]
}