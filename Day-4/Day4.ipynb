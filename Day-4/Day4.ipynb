{
  "nbformat": 4,
  "nbformat_minor": 0,
  "metadata": {
    "colab": {
      "provenance": []
    },
    "kernelspec": {
      "name": "python3",
      "display_name": "Python 3"
    },
    "language_info": {
      "name": "python"
    }
  },
  "cells": [
    {
      "cell_type": "markdown",
      "source": [
        "16) Write a Python program to generate the Fibonacci series up to n terms."
      ],
      "metadata": {
        "id": "FAhGmnazAFzt"
      }
    },
    {
      "cell_type": "code",
      "source": [
        "n=int(input(\"Enter number of terms: \"))\n",
        "a=0\n",
        "b=1\n",
        "for i in range(1,n+1,1):\n",
        "  print(a,end=\" \")\n",
        "  sum=a+b\n",
        "  a=b\n",
        "  b=sum\n",
        ""
      ],
      "metadata": {
        "colab": {
          "base_uri": "https://localhost:8080/"
        },
        "id": "0oiLlBKpADh6",
        "outputId": "a75dae88-67c2-4ce0-e226-d9e9acd583da"
      },
      "execution_count": 61,
      "outputs": [
        {
          "output_type": "stream",
          "name": "stdout",
          "text": [
            "Enter number of terms: 10\n",
            "0 1 1 2 3 5 8 13 21 34 "
          ]
        }
      ]
    },
    {
      "cell_type": "markdown",
      "source": [
        "17) Write a Python program to check whether a number is palindrome or not."
      ],
      "metadata": {
        "id": "GfiCz75w_azF"
      }
    },
    {
      "cell_type": "code",
      "source": [
        "n=12321\n",
        "save=n\n",
        "rev=0\n",
        "while n!=0:\n",
        "  e=n%10\n",
        "  n=n//10\n",
        "  rev=rev*10\n",
        "  rev=rev+e\n",
        "print(rev)\n",
        "\n",
        "if rev==save:\n",
        "  print(\"Palindrome\")\n",
        "else:\n",
        "  print(\"Not a Palindrome\")"
      ],
      "metadata": {
        "colab": {
          "base_uri": "https://localhost:8080/"
        },
        "id": "kaWuY-Sz_W3z",
        "outputId": "bb99cfa7-0287-49a2-f0b5-71662e4725b6"
      },
      "execution_count": 57,
      "outputs": [
        {
          "output_type": "stream",
          "name": "stdout",
          "text": [
            "12321\n",
            "Palindrome\n"
          ]
        }
      ]
    },
    {
      "cell_type": "markdown",
      "source": [
        "18)Write a Python program to print prime numbers from 1 to 100."
      ],
      "metadata": {
        "id": "HgdnglA8-M3m"
      }
    },
    {
      "cell_type": "code",
      "source": [
        "n=100\n",
        "for i in range(1,n+1,1):\n",
        "  count=0\n",
        "  for j in range(1,i+1,1):\n",
        "    if i%j==0:\n",
        "      count+=1\n",
        "  if count==2:\n",
        "    print(j,end=\" \")\n"
      ],
      "metadata": {
        "colab": {
          "base_uri": "https://localhost:8080/"
        },
        "id": "VopJ6wHx-LLS",
        "outputId": "39e23cfc-3038-4793-db2d-4a998f4b0b90"
      },
      "execution_count": 53,
      "outputs": [
        {
          "output_type": "stream",
          "name": "stdout",
          "text": [
            "2 3 5 7 11 13 17 19 23 29 31 37 41 43 47 53 59 61 67 71 73 79 83 89 97 "
          ]
        }
      ]
    },
    {
      "cell_type": "markdown",
      "source": [
        "19)Write a Python program for below patterns."
      ],
      "metadata": {
        "id": "BO9DmuCY90uT"
      }
    },
    {
      "cell_type": "code",
      "source": [
        "n=5\n",
        "for i in range(1,n+1,1):\n",
        "  for j in range(1,i+1,1):\n",
        "    print(\"*\",end=\" \")\n",
        "  print()"
      ],
      "metadata": {
        "colab": {
          "base_uri": "https://localhost:8080/"
        },
        "id": "kzLMGUIzOj2c",
        "outputId": "11ce7b00-b8de-428e-935b-84038223738f"
      },
      "execution_count": 66,
      "outputs": [
        {
          "output_type": "stream",
          "name": "stdout",
          "text": [
            "* \n",
            "* * \n",
            "* * * \n",
            "* * * * \n",
            "* * * * * \n"
          ]
        }
      ]
    },
    {
      "cell_type": "code",
      "source": [
        "n=5\n",
        "for i in range(1,n+1,1):\n",
        "  a=1\n",
        "  for j in range(1,i+1,1):\n",
        "    print(a,end=\" \")\n",
        "    a+=1\n",
        "  print()"
      ],
      "metadata": {
        "colab": {
          "base_uri": "https://localhost:8080/"
        },
        "id": "iHbwstm7OU8x",
        "outputId": "7e3f462e-a854-4fe4-ff8a-842eaec2e81b"
      },
      "execution_count": 65,
      "outputs": [
        {
          "output_type": "stream",
          "name": "stdout",
          "text": [
            "1 \n",
            "1 2 \n",
            "1 2 3 \n",
            "1 2 3 4 \n",
            "1 2 3 4 5 \n"
          ]
        }
      ]
    },
    {
      "cell_type": "code",
      "execution_count": 39,
      "metadata": {
        "colab": {
          "base_uri": "https://localhost:8080/"
        },
        "id": "1nieLBb7i9g0",
        "outputId": "31e9036d-b0c3-4898-d0c2-d1faa02c3810"
      },
      "outputs": [
        {
          "output_type": "stream",
          "name": "stdout",
          "text": [
            "E D C B A \n",
            "D C B A \n",
            "C B A \n",
            "B A \n",
            "A \n"
          ]
        }
      ],
      "source": [
        "n = 5\n",
        "for i in range(1, n + 1):\n",
        "    a = 69-(i-1)\n",
        "    for j in range(1,n-i+ 2):\n",
        "        print(chr(a),end=\" \")\n",
        "        a-=1\n",
        "    print()\n"
      ]
    },
    {
      "cell_type": "markdown",
      "source": [
        "20)Write a Python program to print all even numbers between 1 and 100."
      ],
      "metadata": {
        "id": "zT4-v3Z7Bfcb"
      }
    },
    {
      "cell_type": "code",
      "source": [
        "n=100\n",
        "for i in range(1,n+1,1):\n",
        "  if i%2==0:\n",
        "    print(i,end=\" \")\n",
        ""
      ],
      "metadata": {
        "colab": {
          "base_uri": "https://localhost:8080/"
        },
        "id": "c-P2aTYa4xfd",
        "outputId": "65eef05f-4152-47b2-c1c2-ca97d496093c"
      },
      "execution_count": 62,
      "outputs": [
        {
          "output_type": "stream",
          "name": "stdout",
          "text": [
            "2 4 6 8 10 12 14 16 18 20 22 24 26 28 30 32 34 36 38 40 42 44 46 48 50 52 54 56 58 60 62 64 66 68 70 72 74 76 78 80 82 84 86 88 90 92 94 96 98 100 "
          ]
        }
      ]
    }
  ]
}